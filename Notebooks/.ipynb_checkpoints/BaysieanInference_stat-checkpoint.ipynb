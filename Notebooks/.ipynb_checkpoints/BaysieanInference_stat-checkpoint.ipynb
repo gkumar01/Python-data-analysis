{
 "cells": [
  {
   "cell_type": "code",
   "execution_count": 3,
   "id": "c73ee69b",
   "metadata": {},
   "outputs": [
    {
     "name": "stdout",
     "output_type": "stream",
     "text": [
      "Total number of Flips: 1000\n",
      "Total: 1000\n"
     ]
    }
   ],
   "source": [
    "# https://towardsdatascience.com/bayesian-inference-intuition-and-example-148fd8fb95d6\n",
    "\n",
    "import numpy as np\n",
    "import scipy.stats as stats\n",
    "\n",
    "success_prob = 0.3\n",
    "# n=1 to the Binomial distribution it is equivalent to the Bernoulli distribution.\n",
    "# # sucess is 1, failure is 0. Flip coins 1000 times under iid assumption \n",
    "data = np.random.binomial(n=1, p=success_prob, size=1000) # sucess is 1, failure is 0.\n",
    "print('Total number of Flips:',len(data))\n",
    "\n",
    "# Domain θ\n",
    "theta_range = np.linspace(0, 1, 1000)\n",
    "print('Total:',len(theta_range))\n"
   ]
  },
  {
   "cell_type": "code",
   "execution_count": 4,
   "id": "7f5491bd",
   "metadata": {},
   "outputs": [],
   "source": [
    "# Prior P(θ)\n",
    "a = 2\n",
    "b = 8\n",
    "theta_range_e = theta_range + 0.0001 \n",
    "prior = stats.beta.cdf(x = theta_range_e, a=a, b=b) - stats.beta.cdf(x = theta_range, a=a, b=b)\n",
    "\n",
    "# The sampling dist. aka Likelihood P(X|θ)\n",
    "likelihood = stats.binom.pmf(k = np.sum(data), n = len(data), p = theta_range)\n",
    "\n",
    "# Posterior\n",
    "posterior = likelihood * prior\n",
    "normalized_posterior = posterior / np.sum(posterior)\n",
    "\n",
    "# print(normalized_posterior)"
   ]
  }
 ],
 "metadata": {
  "kernelspec": {
   "display_name": "Python 3 (ipykernel)",
   "language": "python",
   "name": "python3"
  },
  "language_info": {
   "codemirror_mode": {
    "name": "ipython",
    "version": 3
   },
   "file_extension": ".py",
   "mimetype": "text/x-python",
   "name": "python",
   "nbconvert_exporter": "python",
   "pygments_lexer": "ipython3",
   "version": "3.8.10"
  }
 },
 "nbformat": 4,
 "nbformat_minor": 5
}
