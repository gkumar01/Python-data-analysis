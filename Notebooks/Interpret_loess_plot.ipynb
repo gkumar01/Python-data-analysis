{
 "cells": [
  {
   "cell_type": "code",
   "execution_count": 1,
   "id": "e1be34a4",
   "metadata": {},
   "outputs": [
    {
     "ename": "ModuleNotFoundError",
     "evalue": "No module named 'astropy'",
     "output_type": "error",
     "traceback": [
      "\u001b[0;31m---------------------------------------------------------------------------\u001b[0m",
      "\u001b[0;31mModuleNotFoundError\u001b[0m                       Traceback (most recent call last)",
      "Cell \u001b[0;32mIn[1], line 7\u001b[0m\n\u001b[1;32m      5\u001b[0m \u001b[38;5;28;01mimport\u001b[39;00m \u001b[38;5;21;01mnumpy\u001b[39;00m \u001b[38;5;28;01mas\u001b[39;00m \u001b[38;5;21;01mnp\u001b[39;00m\n\u001b[1;32m      6\u001b[0m \u001b[38;5;28;01mfrom\u001b[39;00m \u001b[38;5;21;01mp_tqdm\u001b[39;00m \u001b[38;5;28;01mimport\u001b[39;00m p_map\n\u001b[0;32m----> 7\u001b[0m \u001b[38;5;28;01mfrom\u001b[39;00m \u001b[38;5;21;01mastropy\u001b[39;00m\u001b[38;5;21;01m.\u001b[39;00m\u001b[38;5;21;01mstats\u001b[39;00m \u001b[38;5;28;01mimport\u001b[39;00m bootstrap\n\u001b[1;32m      9\u001b[0m x \u001b[38;5;241m=\u001b[39m np\u001b[38;5;241m.\u001b[39mlinspace(\u001b[38;5;241m0\u001b[39m,\u001b[38;5;241m80\u001b[39m,\u001b[38;5;241m1000\u001b[39m)\n\u001b[1;32m     10\u001b[0m y \u001b[38;5;241m=\u001b[39m  np\u001b[38;5;241m.\u001b[39msin(x) \u001b[38;5;241m+\u001b[39m \u001b[38;5;241m0.1\u001b[39m \u001b[38;5;241m*\u001b[39m x \u001b[38;5;241m+\u001b[39m np\u001b[38;5;241m.\u001b[39mrandom\u001b[38;5;241m.\u001b[39mnormal(\u001b[38;5;241m0\u001b[39m, \u001b[38;5;241m0.1\u001b[39m, size\u001b[38;5;241m=\u001b[39m\u001b[38;5;241m1000\u001b[39m)\n",
      "\u001b[0;31mModuleNotFoundError\u001b[0m: No module named 'astropy'"
     ]
    }
   ],
   "source": [
    "# https://stats.stackexchange.com/questions/557381/how-do-i-interpret-or-explain-loess-plot\n",
    "# https://gist.github.com/galenseilis/dcc853c5826a0d977ddada766b5c582f\n",
    "from statsmodels.nonparametric.smoothers_lowess import lowess\n",
    "import matplotlib.pyplot as plt\n",
    "import numpy as np\n",
    "from p_tqdm import p_map\n",
    "from astropy.stats import bootstrap\n",
    "\n",
    "x = np.linspace(0,80,1000)\n",
    "y =  np.sin(x) + 0.1 * x + np.random.normal(0, 0.1, size=1000)\n",
    "\n",
    "def parallel_perm(*args):\n",
    "    xperm = x\n",
    "    yperm = np.random.permutation(y)\n",
    "    yhat = lowess(yperm, xperm, frac=1/30, return_sorted=False)\n",
    "    mse = np.mean(np.power(yperm - yhat, 2))\n",
    "    return mse\n",
    "\n",
    "result = p_map(parallel_perm, range(5000))\n",
    "yhat = lowess(y, x, frac=1/30, return_sorted=False)\n",
    "\n",
    "fig, axes = plt.subplots(1,2)\n",
    "axes[0].scatter(x, y, s=2, label='Data')\n",
    "axes[0].scatter(x, yhat, s=2, label='LOWESS')\n",
    "axes[0].plot(x, np.sin(x) + 0.1 * x, label='Truth', color='k', alpha=0.5)\n",
    "axes[0].legend()\n",
    "\n",
    "n, bins, patches = axes[1].hist(result,\n",
    "                                bins=10,\n",
    "                                color='k',\n",
    "                                alpha=0.5,\n",
    "                                label='MSE(PERM)')\n",
    "\n",
    "booty = bootstrap(y,\n",
    "                  5000,\n",
    "                  bootfunc=lambda n: np.mean(np.power(n - np.mean(n), 2)))\n",
    "axes[1].hist(booty,\n",
    "             bins=10,\n",
    "             color='red',\n",
    "             alpha=0.5,\n",
    "             label='MSE(Y)')\n",
    "axes[1].plot(2*[np.mean(np.power(y-yhat, 2))],\n",
    "             [0, np.max(n)],\n",
    "             color='green',\n",
    "             label='MSE(LOWESS)')\n",
    "axes[1].legend()\n",
    "\n",
    "plt.show()\n"
   ]
  },
  {
   "cell_type": "code",
   "execution_count": null,
   "id": "14ab54ca",
   "metadata": {},
   "outputs": [],
   "source": []
  },
  {
   "cell_type": "code",
   "execution_count": null,
   "id": "e89bb406",
   "metadata": {},
   "outputs": [],
   "source": []
  },
  {
   "cell_type": "code",
   "execution_count": null,
   "id": "d06906b9-566d-4d30-a938-e37ca139b39a",
   "metadata": {},
   "outputs": [],
   "source": []
  }
 ],
 "metadata": {
  "kernelspec": {
   "display_name": "Python 3 (ipykernel)",
   "language": "python",
   "name": "python3"
  },
  "language_info": {
   "codemirror_mode": {
    "name": "ipython",
    "version": 3
   },
   "file_extension": ".py",
   "mimetype": "text/x-python",
   "name": "python",
   "nbconvert_exporter": "python",
   "pygments_lexer": "ipython3",
   "version": "3.8.10"
  }
 },
 "nbformat": 4,
 "nbformat_minor": 5
}
